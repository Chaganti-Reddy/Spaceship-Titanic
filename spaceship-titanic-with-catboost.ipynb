{
 "cells": [
  {
   "cell_type": "code",
   "execution_count": 1,
   "id": "fe78ed95",
   "metadata": {
    "_cell_guid": "b1076dfc-b9ad-4769-8c92-a6c4dae69d19",
    "_uuid": "8f2839f25d086af736a60e9eeb907d3b93b6e0e5",
    "execution": {
     "iopub.execute_input": "2023-04-15T12:20:36.911055Z",
     "iopub.status.busy": "2023-04-15T12:20:36.910648Z",
     "iopub.status.idle": "2023-04-15T12:20:36.926097Z",
     "shell.execute_reply": "2023-04-15T12:20:36.924419Z"
    },
    "papermill": {
     "duration": 0.025522,
     "end_time": "2023-04-15T12:20:36.928614",
     "exception": false,
     "start_time": "2023-04-15T12:20:36.903092",
     "status": "completed"
    },
    "tags": []
   },
   "outputs": [],
   "source": [
    "import numpy as np\n",
    "import pandas as pd "
   ]
  },
  {
   "cell_type": "code",
   "execution_count": 2,
   "id": "4ebffa0f",
   "metadata": {
    "execution": {
     "iopub.execute_input": "2023-04-15T12:20:36.939884Z",
     "iopub.status.busy": "2023-04-15T12:20:36.939179Z",
     "iopub.status.idle": "2023-04-15T12:20:37.059550Z",
     "shell.execute_reply": "2023-04-15T12:20:37.058243Z"
    },
    "papermill": {
     "duration": 0.129368,
     "end_time": "2023-04-15T12:20:37.062704",
     "exception": false,
     "start_time": "2023-04-15T12:20:36.933336",
     "status": "completed"
    },
    "tags": []
   },
   "outputs": [
    {
     "data": {
      "text/html": [
       "<div>\n",
       "<style scoped>\n",
       "    .dataframe tbody tr th:only-of-type {\n",
       "        vertical-align: middle;\n",
       "    }\n",
       "\n",
       "    .dataframe tbody tr th {\n",
       "        vertical-align: top;\n",
       "    }\n",
       "\n",
       "    .dataframe thead th {\n",
       "        text-align: right;\n",
       "    }\n",
       "</style>\n",
       "<table border=\"1\" class=\"dataframe\">\n",
       "  <thead>\n",
       "    <tr style=\"text-align: right;\">\n",
       "      <th></th>\n",
       "      <th>PassengerId</th>\n",
       "      <th>HomePlanet</th>\n",
       "      <th>CryoSleep</th>\n",
       "      <th>Cabin</th>\n",
       "      <th>Destination</th>\n",
       "      <th>Age</th>\n",
       "      <th>VIP</th>\n",
       "      <th>RoomService</th>\n",
       "      <th>FoodCourt</th>\n",
       "      <th>ShoppingMall</th>\n",
       "      <th>Spa</th>\n",
       "      <th>VRDeck</th>\n",
       "      <th>Name</th>\n",
       "      <th>Transported</th>\n",
       "    </tr>\n",
       "  </thead>\n",
       "  <tbody>\n",
       "    <tr>\n",
       "      <th>0</th>\n",
       "      <td>0001_01</td>\n",
       "      <td>Europa</td>\n",
       "      <td>False</td>\n",
       "      <td>B/0/P</td>\n",
       "      <td>TRAPPIST-1e</td>\n",
       "      <td>39.0</td>\n",
       "      <td>False</td>\n",
       "      <td>0.0</td>\n",
       "      <td>0.0</td>\n",
       "      <td>0.0</td>\n",
       "      <td>0.0</td>\n",
       "      <td>0.0</td>\n",
       "      <td>Maham Ofracculy</td>\n",
       "      <td>False</td>\n",
       "    </tr>\n",
       "    <tr>\n",
       "      <th>1</th>\n",
       "      <td>0002_01</td>\n",
       "      <td>Earth</td>\n",
       "      <td>False</td>\n",
       "      <td>F/0/S</td>\n",
       "      <td>TRAPPIST-1e</td>\n",
       "      <td>24.0</td>\n",
       "      <td>False</td>\n",
       "      <td>109.0</td>\n",
       "      <td>9.0</td>\n",
       "      <td>25.0</td>\n",
       "      <td>549.0</td>\n",
       "      <td>44.0</td>\n",
       "      <td>Juanna Vines</td>\n",
       "      <td>True</td>\n",
       "    </tr>\n",
       "    <tr>\n",
       "      <th>2</th>\n",
       "      <td>0003_01</td>\n",
       "      <td>Europa</td>\n",
       "      <td>False</td>\n",
       "      <td>A/0/S</td>\n",
       "      <td>TRAPPIST-1e</td>\n",
       "      <td>58.0</td>\n",
       "      <td>True</td>\n",
       "      <td>43.0</td>\n",
       "      <td>3576.0</td>\n",
       "      <td>0.0</td>\n",
       "      <td>6715.0</td>\n",
       "      <td>49.0</td>\n",
       "      <td>Altark Susent</td>\n",
       "      <td>False</td>\n",
       "    </tr>\n",
       "    <tr>\n",
       "      <th>3</th>\n",
       "      <td>0003_02</td>\n",
       "      <td>Europa</td>\n",
       "      <td>False</td>\n",
       "      <td>A/0/S</td>\n",
       "      <td>TRAPPIST-1e</td>\n",
       "      <td>33.0</td>\n",
       "      <td>False</td>\n",
       "      <td>0.0</td>\n",
       "      <td>1283.0</td>\n",
       "      <td>371.0</td>\n",
       "      <td>3329.0</td>\n",
       "      <td>193.0</td>\n",
       "      <td>Solam Susent</td>\n",
       "      <td>False</td>\n",
       "    </tr>\n",
       "    <tr>\n",
       "      <th>4</th>\n",
       "      <td>0004_01</td>\n",
       "      <td>Earth</td>\n",
       "      <td>False</td>\n",
       "      <td>F/1/S</td>\n",
       "      <td>TRAPPIST-1e</td>\n",
       "      <td>16.0</td>\n",
       "      <td>False</td>\n",
       "      <td>303.0</td>\n",
       "      <td>70.0</td>\n",
       "      <td>151.0</td>\n",
       "      <td>565.0</td>\n",
       "      <td>2.0</td>\n",
       "      <td>Willy Santantines</td>\n",
       "      <td>True</td>\n",
       "    </tr>\n",
       "  </tbody>\n",
       "</table>\n",
       "</div>"
      ],
      "text/plain": [
       "  PassengerId HomePlanet CryoSleep  Cabin  Destination   Age    VIP   \n",
       "0     0001_01     Europa     False  B/0/P  TRAPPIST-1e  39.0  False  \\\n",
       "1     0002_01      Earth     False  F/0/S  TRAPPIST-1e  24.0  False   \n",
       "2     0003_01     Europa     False  A/0/S  TRAPPIST-1e  58.0   True   \n",
       "3     0003_02     Europa     False  A/0/S  TRAPPIST-1e  33.0  False   \n",
       "4     0004_01      Earth     False  F/1/S  TRAPPIST-1e  16.0  False   \n",
       "\n",
       "   RoomService  FoodCourt  ShoppingMall     Spa  VRDeck               Name   \n",
       "0          0.0        0.0           0.0     0.0     0.0    Maham Ofracculy  \\\n",
       "1        109.0        9.0          25.0   549.0    44.0       Juanna Vines   \n",
       "2         43.0     3576.0           0.0  6715.0    49.0      Altark Susent   \n",
       "3          0.0     1283.0         371.0  3329.0   193.0       Solam Susent   \n",
       "4        303.0       70.0         151.0   565.0     2.0  Willy Santantines   \n",
       "\n",
       "   Transported  \n",
       "0        False  \n",
       "1         True  \n",
       "2        False  \n",
       "3        False  \n",
       "4         True  "
      ]
     },
     "execution_count": 2,
     "metadata": {},
     "output_type": "execute_result"
    }
   ],
   "source": [
    "train_data = pd.read_csv(\"train.csv\")\n",
    "test_data = pd.read_csv(\"test.csv\")\n",
    "train_data.head()"
   ]
  },
  {
   "cell_type": "markdown",
   "id": "82bc0390",
   "metadata": {
    "papermill": {
     "duration": 0.004287,
     "end_time": "2023-04-15T12:20:37.081125",
     "exception": false,
     "start_time": "2023-04-15T12:20:37.076838",
     "status": "completed"
    },
    "tags": []
   },
   "source": [
    "# Exploratory data analysis(EDA)"
   ]
  },
  {
   "cell_type": "code",
   "execution_count": 3,
   "id": "c1905bd1",
   "metadata": {
    "execution": {
     "iopub.execute_input": "2023-04-15T12:20:37.092675Z",
     "iopub.status.busy": "2023-04-15T12:20:37.092242Z",
     "iopub.status.idle": "2023-04-15T12:20:37.105313Z",
     "shell.execute_reply": "2023-04-15T12:20:37.104257Z"
    },
    "papermill": {
     "duration": 0.021779,
     "end_time": "2023-04-15T12:20:37.107852",
     "exception": false,
     "start_time": "2023-04-15T12:20:37.086073",
     "status": "completed"
    },
    "tags": []
   },
   "outputs": [
    {
     "data": {
      "text/plain": [
       "PassengerId       0\n",
       "HomePlanet      201\n",
       "CryoSleep       217\n",
       "Cabin           199\n",
       "Destination     182\n",
       "Age             179\n",
       "VIP             203\n",
       "RoomService     181\n",
       "FoodCourt       183\n",
       "ShoppingMall    208\n",
       "Spa             183\n",
       "VRDeck          188\n",
       "Name            200\n",
       "Transported       0\n",
       "dtype: int64"
      ]
     },
     "execution_count": 3,
     "metadata": {},
     "output_type": "execute_result"
    }
   ],
   "source": [
    "train_data.isnull().sum()"
   ]
  },
  {
   "cell_type": "markdown",
   "id": "88a8e3b0",
   "metadata": {
    "papermill": {
     "duration": 0.004457,
     "end_time": "2023-04-15T12:20:37.145115",
     "exception": false,
     "start_time": "2023-04-15T12:20:37.140658",
     "status": "completed"
    },
    "tags": []
   },
   "source": [
    "KNNImputer - \"Imputation for completing missing values using k-Nearest Neighbors.\n",
    "Each sample’s missing values are imputed using the mean value from n_neighbors nearest neighbors found in the training set. Two samples are close if the features that neither is missing are close.\""
   ]
  },
  {
   "cell_type": "code",
   "execution_count": 9,
   "id": "fbf1879f",
   "metadata": {
    "execution": {
     "iopub.execute_input": "2023-04-15T12:20:37.156777Z",
     "iopub.status.busy": "2023-04-15T12:20:37.156094Z",
     "iopub.status.idle": "2023-04-15T12:20:39.615285Z",
     "shell.execute_reply": "2023-04-15T12:20:39.614024Z"
    },
    "papermill": {
     "duration": 2.468064,
     "end_time": "2023-04-15T12:20:39.618027",
     "exception": false,
     "start_time": "2023-04-15T12:20:37.149963",
     "status": "completed"
    },
    "tags": []
   },
   "outputs": [],
   "source": [
    "from sklearn.impute import KNNImputer\n",
    "\n",
    "train_data['Transported'] = train_data['Transported']*1\n",
    "train_data['CryoSleep'] = train_data['CryoSleep']*1\n",
    "test_data['CryoSleep'] = test_data['CryoSleep']*1\n",
    "\n",
    "imputer = KNNImputer(n_neighbors=2, weights=\"uniform\")\n",
    "\n",
    "\n",
    "train_data[[\"Deck\", \"Num\", \"Side\"]] = train_data[\"Cabin\"].str.split(\"/\", expand=True)\n",
    "train_data[['Age', 'RoomService', 'FoodCourt', 'ShoppingMall', 'Spa', 'VRDeck', 'CryoSleep', 'Num']] = imputer.fit_transform(train_data[['Age', 'RoomService', 'FoodCourt', 'ShoppingMall', 'Spa', 'VRDeck', 'CryoSleep', 'Num']])\n",
    "\n",
    "\n",
    "\n",
    "test_data[[\"Deck\", \"Num\", \"Side\"]] = test_data[\"Cabin\"].str.split(\"/\", expand=True)\n",
    "test_data[['Age', 'RoomService', 'FoodCourt', 'ShoppingMall', 'Spa', 'VRDeck', 'CryoSleep', 'Num']] = imputer.fit_transform(test_data[['Age', 'RoomService', 'FoodCourt', 'ShoppingMall', 'Spa', 'VRDeck', 'CryoSleep', 'Num']])\n",
    "\n",
    "\n",
    "train_data['HomePlanet'].fillna(\"Earth\", inplace=True)\n",
    "train_data['Destination'].fillna(\"TRAPPIST-1e\", inplace=True)\n",
    "train_data['Deck'].fillna(\"F\", inplace=True)\n",
    "train_data['Side'].fillna(\"P\", inplace=True)\n",
    "\n",
    "\n",
    "\n",
    "test_data['HomePlanet'].fillna(\"Earth\", inplace=True)\n",
    "test_data['Destination'].fillna(\"TRAPPIST-1e\", inplace=True)\n",
    "test_data['Deck'].fillna(\"F\", inplace=True)\n",
    "test_data['Side'].fillna(\"P\", inplace=True)"
   ]
  },
  {
   "cell_type": "markdown",
   "id": "bed0ae1c",
   "metadata": {
    "papermill": {
     "duration": 0.004626,
     "end_time": "2023-04-15T12:20:39.627662",
     "exception": false,
     "start_time": "2023-04-15T12:20:39.623036",
     "status": "completed"
    },
    "tags": []
   },
   "source": [
    "LabelEncoder - \"Encode target labels with value between 0 and n_classes-1.\""
   ]
  },
  {
   "cell_type": "code",
   "execution_count": 10,
   "id": "a0dda668",
   "metadata": {
    "execution": {
     "iopub.execute_input": "2023-04-15T12:20:39.639095Z",
     "iopub.status.busy": "2023-04-15T12:20:39.638690Z",
     "iopub.status.idle": "2023-04-15T12:20:39.660757Z",
     "shell.execute_reply": "2023-04-15T12:20:39.659312Z"
    },
    "papermill": {
     "duration": 0.0311,
     "end_time": "2023-04-15T12:20:39.663663",
     "exception": false,
     "start_time": "2023-04-15T12:20:39.632563",
     "status": "completed"
    },
    "tags": []
   },
   "outputs": [],
   "source": [
    "from sklearn.preprocessing import LabelEncoder\n",
    "le = LabelEncoder()\n",
    "train_data[\"Deck\"]= le.fit_transform(train_data[\"Deck\"])\n",
    "\n",
    "le = LabelEncoder()\n",
    "train_data[\"Num\"]= le.fit_transform(train_data[\"Num\"])\n",
    "\n",
    "le = LabelEncoder()\n",
    "train_data[\"Side\"]= le.fit_transform(train_data[\"Side\"])\n",
    "\n",
    "le = LabelEncoder()\n",
    "test_data[\"Deck\"]= le.fit_transform(test_data[\"Deck\"])\n",
    "\n",
    "le = LabelEncoder()\n",
    "test_data[\"Num\"]= le.fit_transform(test_data[\"Num\"])\n",
    "\n",
    "le = LabelEncoder()\n",
    "test_data[\"Side\"]= le.fit_transform(test_data[\"Side\"])"
   ]
  },
  {
   "cell_type": "markdown",
   "id": "dfba70c2",
   "metadata": {
    "papermill": {
     "duration": 0.004561,
     "end_time": "2023-04-15T12:20:39.673199",
     "exception": false,
     "start_time": "2023-04-15T12:20:39.668638",
     "status": "completed"
    },
    "tags": []
   },
   "source": [
    "Make new feature called \"AllSpending\" "
   ]
  },
  {
   "cell_type": "code",
   "execution_count": 11,
   "id": "4904e234",
   "metadata": {
    "execution": {
     "iopub.execute_input": "2023-04-15T12:20:39.685340Z",
     "iopub.status.busy": "2023-04-15T12:20:39.684301Z",
     "iopub.status.idle": "2023-04-15T12:20:39.694773Z",
     "shell.execute_reply": "2023-04-15T12:20:39.693613Z"
    },
    "papermill": {
     "duration": 0.019144,
     "end_time": "2023-04-15T12:20:39.697242",
     "exception": false,
     "start_time": "2023-04-15T12:20:39.678098",
     "status": "completed"
    },
    "tags": []
   },
   "outputs": [],
   "source": [
    "train_data['AllSpending'] = train_data['RoomService'] + train_data['ShoppingMall'] + train_data['FoodCourt'] + train_data['Spa'] + train_data['VRDeck']\n",
    "test_data['AllSpending'] = test_data['AllShop'] = test_data['RoomService'] + test_data['ShoppingMall'] + test_data['FoodCourt'] + test_data['Spa'] + test_data['VRDeck']"
   ]
  },
  {
   "cell_type": "markdown",
   "id": "545dcf43",
   "metadata": {
    "papermill": {
     "duration": 0.004654,
     "end_time": "2023-04-15T12:20:39.707127",
     "exception": false,
     "start_time": "2023-04-15T12:20:39.702473",
     "status": "completed"
    },
    "tags": []
   },
   "source": [
    "# Feature selection, scaling"
   ]
  },
  {
   "cell_type": "code",
   "execution_count": 12,
   "id": "12232099",
   "metadata": {
    "execution": {
     "iopub.execute_input": "2023-04-15T12:20:39.719447Z",
     "iopub.status.busy": "2023-04-15T12:20:39.719038Z",
     "iopub.status.idle": "2023-04-15T12:20:39.750188Z",
     "shell.execute_reply": "2023-04-15T12:20:39.748336Z"
    },
    "papermill": {
     "duration": 0.041052,
     "end_time": "2023-04-15T12:20:39.753110",
     "exception": false,
     "start_time": "2023-04-15T12:20:39.712058",
     "status": "completed"
    },
    "tags": []
   },
   "outputs": [],
   "source": [
    "from sklearn.preprocessing import StandardScaler\n",
    "\n",
    "y = train_data[\"Transported\"]\n",
    "\n",
    "\n",
    "features = [\"CryoSleep\",\"RoomService\",\"Spa\",\"VRDeck\",\"Deck\",\"Side\",\"AllSpending\"]\n",
    "\n",
    "cols_to_normalize = [\"RoomService\",\"Spa\",\"VRDeck\",\"AllSpending\"]\n",
    "scaler = StandardScaler()\n",
    "\n",
    "train_data[cols_to_normalize ] = scaler.fit_transform(train_data[cols_to_normalize ])\n",
    "test_data[cols_to_normalize ] = scaler.transform(test_data[cols_to_normalize ])\n",
    "\n",
    "X = pd.get_dummies(train_data[features])\n",
    "X_test = pd.get_dummies(test_data[features])"
   ]
  },
  {
   "cell_type": "markdown",
   "id": "cea44aa6",
   "metadata": {
    "papermill": {
     "duration": 0.004599,
     "end_time": "2023-04-15T12:20:39.762737",
     "exception": false,
     "start_time": "2023-04-15T12:20:39.758138",
     "status": "completed"
    },
    "tags": []
   },
   "source": [
    "# Model training"
   ]
  },
  {
   "cell_type": "code",
   "execution_count": 14,
   "id": "0c1c3de5",
   "metadata": {
    "execution": {
     "iopub.execute_input": "2023-04-15T12:20:39.774540Z",
     "iopub.status.busy": "2023-04-15T12:20:39.774065Z",
     "iopub.status.idle": "2023-04-15T12:20:44.289173Z",
     "shell.execute_reply": "2023-04-15T12:20:44.287770Z"
    },
    "papermill": {
     "duration": 4.524314,
     "end_time": "2023-04-15T12:20:44.291916",
     "exception": false,
     "start_time": "2023-04-15T12:20:39.767602",
     "status": "completed"
    },
    "tags": []
   },
   "outputs": [
    {
     "name": "stdout",
     "output_type": "stream",
     "text": [
      "[[3444  871]\n",
      " [ 548 3830]]\n",
      "0.836765213390084\n",
      "Submission was successfully saved!\n"
     ]
    }
   ],
   "source": [
    "from catboost import CatBoostClassifier\n",
    "from sklearn.metrics import accuracy_score, confusion_matrix\n",
    "\n",
    "cat_model = CatBoostClassifier(verbose=0) \n",
    "cat_model.fit(X, y)\n",
    "\n",
    "y_pred = cat_model.predict(X)\n",
    "print(confusion_matrix(y, y_pred))\n",
    "asc=accuracy_score(y, y_pred)\n",
    "print(asc)\n",
    "predictions = cat_model.predict(X_test)\n",
    "\n",
    "output = pd.DataFrame({'PassengerId': test_data.PassengerId, 'Transported': predictions})\n",
    "output = output.replace({0: False, 1: True})\n",
    "\n",
    "output.to_csv('submission_catboost.csv', index=False)\n",
    "print(\"Submission was successfully saved!\")"
   ]
  },
  {
   "cell_type": "code",
   "execution_count": null,
   "id": "14ee4efb",
   "metadata": {},
   "outputs": [],
   "source": []
  }
 ],
 "metadata": {
  "kernelspec": {
   "display_name": "Python 3",
   "language": "python",
   "name": "python3"
  },
  "language_info": {
   "codemirror_mode": {
    "name": "ipython",
    "version": 3
   },
   "file_extension": ".py",
   "mimetype": "text/x-python",
   "name": "python",
   "nbconvert_exporter": "python",
   "pygments_lexer": "ipython3",
   "version": "3.10.6"
  },
  "papermill": {
   "default_parameters": {},
   "duration": 18.979436,
   "end_time": "2023-04-15T12:20:45.120018",
   "environment_variables": {},
   "exception": null,
   "input_path": "__notebook__.ipynb",
   "output_path": "__notebook__.ipynb",
   "parameters": {},
   "start_time": "2023-04-15T12:20:26.140582",
   "version": "2.4.0"
  }
 },
 "nbformat": 4,
 "nbformat_minor": 5
}
